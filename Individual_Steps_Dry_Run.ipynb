{
 "cells": [
  {
   "cell_type": "code",
   "execution_count": 5,
   "metadata": {},
   "outputs": [
    {
     "name": "stdout",
     "output_type": "stream",
     "text": [
      "Shape of Term Frequency Matrix: (2, 107)\n"
     ]
    }
   ],
   "source": [
    "# naive bayes\n",
    "import pandas as pd\n",
    "import numpy as np \n",
    "from sklearn.pipeline import Pipeline\n",
    "\n",
    "datatrain=pd.read_csv(r\"C:\\Users\\Dell\\Desktop\\abtochalja\\hindi-train.csv\", sep='\\t')\n",
    "datatest=pd.read_csv(r\"C:\\Users\\Dell\\Desktop\\abtochalja\\hindi-test.csv\", sep='\\t')\n",
    "\n",
    "from sklearn.feature_extraction.text import CountVectorizer\n",
    "count_vect = CountVectorizer()\n",
    "X_train_counts = count_vect.fit_transform(datatrain)\n",
    "print(f'Shape of Term Frequency Matrix: {X_train_counts.shape}')"
   ]
  },
  {
   "cell_type": "code",
   "execution_count": 3,
   "metadata": {},
   "outputs": [
    {
     "name": "stdout",
     "output_type": "stream",
     "text": [
      "Shape of TFIDF Matrix: (2, 107)\n"
     ]
    }
   ],
   "source": [
    "from sklearn.feature_extraction.text import TfidfTransformer\n",
    "tfidf_transformer = TfidfTransformer()\n",
    "X_train_tfidf = tfidf_transformer.fit_transform(X_train_counts)\n",
    "print(f'Shape of TFIDF Matrix: {X_train_tfidf.shape}')"
   ]
  },
  {
   "cell_type": "code",
   "execution_count": 6,
   "metadata": {},
   "outputs": [],
   "source": [
    "from sklearn.naive_bayes import MultinomialNB\n",
    "clf = MultinomialNB().fit(X_train_tfidf, datatrain.iloc[0])\n",
    "\n",
    "text_nb_clf = Pipeline([('vect', CountVectorizer()), ('tfidf', TfidfTransformer()), ('clf', MultinomialNB())])\n",
    "text_nb_clf = text_nb_clf.fit(datatrain.iloc[1], datatrain.iloc[0])\n",
    "\n",
    "predicted = text_nb_clf.predict(datatest.iloc[1])\n",
    "naivebayes_clf_accuracy = np.mean(predicted == datatest.iloc[0]) * 100."
   ]
  },
  {
   "cell_type": "code",
   "execution_count": 7,
   "metadata": {},
   "outputs": [
    {
     "name": "stdout",
     "output_type": "stream",
     "text": [
      "Test Accuracy is 0.0 %\n"
     ]
    }
   ],
   "source": [
    "print(f'Test Accuracy is {naivebayes_clf_accuracy} %')"
   ]
  },
  {
   "cell_type": "code",
   "execution_count": 8,
   "metadata": {
    "collapsed": true
   },
   "outputs": [],
   "source": [
    "## Linear Regression\n",
    "from sklearn.linear_model import LogisticRegression as LR\n",
    "text_lr_clf = Pipeline([('vect', CountVectorizer()), ('tfidf', TfidfTransformer()), ('clf',LR())])\n",
    "text_lr_clf = text_lr_clf.fit(datatrain.iloc[1], datatrain.iloc[0])\n",
    "lr_predicted = text_lr_clf.predict(datatest.iloc[1])\n",
    "lr_clf_accuracy = np.mean(lr_predicted == datatest.iloc[0]) * 100"
   ]
  },
  {
   "cell_type": "code",
   "execution_count": 9,
   "metadata": {},
   "outputs": [
    {
     "name": "stdout",
     "output_type": "stream",
     "text": [
      "Test Accuracy is 0.0\n"
     ]
    }
   ],
   "source": [
    "print(f'Test Accuracy is {lr_clf_accuracy}')"
   ]
  },
  {
   "cell_type": "code",
   "execution_count": null,
   "metadata": {
    "collapsed": true
   },
   "outputs": [],
   "source": []
  }
 ],
 "metadata": {
  "kernelspec": {
   "display_name": "Python 3",
   "language": "python",
   "name": "python3"
  },
  "language_info": {
   "codemirror_mode": {
    "name": "ipython",
    "version": 3
   },
   "file_extension": ".py",
   "mimetype": "text/x-python",
   "name": "python",
   "nbconvert_exporter": "python",
   "pygments_lexer": "ipython3",
   "version": "3.6.3"
  }
 },
 "nbformat": 4,
 "nbformat_minor": 2
}
